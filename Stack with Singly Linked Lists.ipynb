{
 "cells": [
  {
   "cell_type": "code",
   "execution_count": 90,
   "id": "6b28202b-4cb9-446f-96bd-2ec0117c0697",
   "metadata": {},
   "outputs": [],
   "source": [
    "class Node:\n",
    "    def __init__(self,value):\n",
    "        self.value=value\n",
    "        self.next=None\n",
    "        \n",
    "        \n",
    "        \n",
    "\n",
    "class Stack:\n",
    "    def __init__(self):\n",
    "        self.head= None\n",
    "        \n",
    "#     def __str__(self):\n",
    "        \n",
    "#         values=self.list.reverse()\n",
    "#         values= [str(i) for i in self.list]\n",
    "#         return \"\\n\".join(values)\n",
    "    \n",
    "    def is_empty(self):\n",
    "        if self.head==None:\n",
    "            return True\n",
    "        else:\n",
    "            return False\n",
    "\n",
    "        \n",
    "    \n",
    "    def push(self,value):\n",
    "        node=Node(value)\n",
    "        node.next=self.head\n",
    "        self.head=node\n",
    "    \n",
    "    def pop(self):\n",
    "        \n",
    "        if( self.is_empty()):\n",
    "            print(\"Nothing to pop, sire!\")\n",
    "        \n",
    "        else:\n",
    "        \n",
    "            val= self.head.value\n",
    "            self.head=self.head.next\n",
    "            return val\n",
    "        \n",
    "        \n",
    "    def peek(self):\n",
    "         if self.is_empty():\n",
    "            return \"Nothing to pop, sire!\"\n",
    "         else:\n",
    "            return self.head.value\n",
    "        \n",
    "    def delete(self):\n",
    "        self.head=None\n",
    "        return \"Deleted successfully!!\"\n",
    "        \n",
    "        "
   ]
  },
  {
   "cell_type": "code",
   "execution_count": 91,
   "id": "de815c88-7951-4cbc-8ac6-ec286c5a92aa",
   "metadata": {},
   "outputs": [],
   "source": [
    "ob1=Stack()"
   ]
  },
  {
   "cell_type": "code",
   "execution_count": 92,
   "id": "3883012b-0e16-4a3e-a175-18885b95bce3",
   "metadata": {},
   "outputs": [],
   "source": [
    "ob1.push(2)"
   ]
  },
  {
   "cell_type": "code",
   "execution_count": 93,
   "id": "9d3358a1-1eef-4f8f-8b9c-2abb5ec329cd",
   "metadata": {},
   "outputs": [
    {
     "name": "stdout",
     "output_type": "stream",
     "text": [
      "<__main__.Stack object at 0x000001CEC1EB5760>\n"
     ]
    }
   ],
   "source": [
    "print(ob1)"
   ]
  },
  {
   "cell_type": "code",
   "execution_count": 94,
   "id": "44254665-fba3-4a99-9a53-85dbdf745529",
   "metadata": {},
   "outputs": [
    {
     "data": {
      "text/plain": [
       "False"
      ]
     },
     "execution_count": 94,
     "metadata": {},
     "output_type": "execute_result"
    }
   ],
   "source": [
    "ob1.is_empty()"
   ]
  },
  {
   "cell_type": "code",
   "execution_count": 95,
   "id": "5077e9b8-ad72-4bad-af6f-49bd5962e3a1",
   "metadata": {},
   "outputs": [
    {
     "data": {
      "text/plain": [
       "2"
      ]
     },
     "execution_count": 95,
     "metadata": {},
     "output_type": "execute_result"
    }
   ],
   "source": [
    "ob1.pop()"
   ]
  },
  {
   "cell_type": "code",
   "execution_count": 96,
   "id": "37a54741-1855-47c9-b73f-f822ee24585c",
   "metadata": {},
   "outputs": [],
   "source": [
    "ob1.push(4)"
   ]
  },
  {
   "cell_type": "code",
   "execution_count": 97,
   "id": "28a5f181-f057-4826-ab86-8a9b3025a657",
   "metadata": {},
   "outputs": [
    {
     "data": {
      "text/plain": [
       "4"
      ]
     },
     "execution_count": 97,
     "metadata": {},
     "output_type": "execute_result"
    }
   ],
   "source": [
    "ob1.peek()"
   ]
  },
  {
   "cell_type": "code",
   "execution_count": 98,
   "id": "2b8d550e-7ba3-4592-99f1-08b4ab54cd4a",
   "metadata": {},
   "outputs": [],
   "source": [
    "ob1.push(44)"
   ]
  },
  {
   "cell_type": "code",
   "execution_count": null,
   "id": "e2f53aa9-3a91-4196-991c-7a2508e79b73",
   "metadata": {},
   "outputs": [],
   "source": []
  },
  {
   "cell_type": "code",
   "execution_count": 99,
   "id": "63d494c6-9105-4a18-b4e6-4c0d8ae9f570",
   "metadata": {},
   "outputs": [
    {
     "name": "stdout",
     "output_type": "stream",
     "text": [
      "<__main__.Stack object at 0x000001CEC1EB5760>\n"
     ]
    }
   ],
   "source": [
    "print(ob1)"
   ]
  },
  {
   "cell_type": "code",
   "execution_count": 100,
   "id": "4b5a0aa1-b3b7-40ba-be18-599095ad87cd",
   "metadata": {},
   "outputs": [
    {
     "data": {
      "text/plain": [
       "'Deleted successfully!!'"
      ]
     },
     "execution_count": 100,
     "metadata": {},
     "output_type": "execute_result"
    }
   ],
   "source": [
    "ob1.delete()"
   ]
  },
  {
   "cell_type": "code",
   "execution_count": null,
   "id": "b5557ae2-dfaa-4b56-baa6-2dabedef28de",
   "metadata": {},
   "outputs": [],
   "source": []
  },
  {
   "cell_type": "code",
   "execution_count": 104,
   "id": "e1656c31-0787-4c7b-a56a-afe1415c3b3a",
   "metadata": {},
   "outputs": [
    {
     "data": {
      "text/plain": [
       "True"
      ]
     },
     "execution_count": 104,
     "metadata": {},
     "output_type": "execute_result"
    }
   ],
   "source": [
    "ob1.is_empty()"
   ]
  },
  {
   "cell_type": "code",
   "execution_count": null,
   "id": "7266393e-668c-41a9-ba11-c2a20ad6307b",
   "metadata": {},
   "outputs": [],
   "source": []
  }
 ],
 "metadata": {
  "kernelspec": {
   "display_name": "Python 3",
   "language": "python",
   "name": "python3"
  },
  "language_info": {
   "codemirror_mode": {
    "name": "ipython",
    "version": 3
   },
   "file_extension": ".py",
   "mimetype": "text/x-python",
   "name": "python",
   "nbconvert_exporter": "python",
   "pygments_lexer": "ipython3",
   "version": "3.8.5"
  }
 },
 "nbformat": 4,
 "nbformat_minor": 5
}
